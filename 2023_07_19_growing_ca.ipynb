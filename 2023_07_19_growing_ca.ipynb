{
 "cells": [
  {
   "cell_type": "code",
   "execution_count": null,
   "metadata": {
    "colab": {
     "base_uri": "https://localhost:8080/"
    },
    "id": "yUulXIMztL-z",
    "outputId": "47500e4b-d063-4fb1-d827-1fa4fd06c99c"
   },
   "outputs": [
    {
     "name": "stdout",
     "output_type": "stream",
     "text": [
      "Wed Jul 19 23:52:52 2023       \n",
      "+-----------------------------------------------------------------------------+\n",
      "| NVIDIA-SMI 525.105.17   Driver Version: 525.105.17   CUDA Version: 12.0     |\n",
      "|-------------------------------+----------------------+----------------------+\n",
      "| GPU  Name        Persistence-M| Bus-Id        Disp.A | Volatile Uncorr. ECC |\n",
      "| Fan  Temp  Perf  Pwr:Usage/Cap|         Memory-Usage | GPU-Util  Compute M. |\n",
      "|                               |                      |               MIG M. |\n",
      "|===============================+======================+======================|\n",
      "|   0  Tesla V100-SXM2...  Off  | 00000000:00:04.0 Off |                    0 |\n",
      "| N/A   36C    P0    25W / 300W |      0MiB / 16384MiB |      0%      Default |\n",
      "|                               |                      |                  N/A |\n",
      "+-------------------------------+----------------------+----------------------+\n",
      "                                                                               \n",
      "+-----------------------------------------------------------------------------+\n",
      "| Processes:                                                                  |\n",
      "|  GPU   GI   CI        PID   Type   Process name                  GPU Memory |\n",
      "|        ID   ID                                                   Usage      |\n",
      "|=============================================================================|\n",
      "|  No running processes found                                                 |\n",
      "+-----------------------------------------------------------------------------+\n"
     ]
    }
   ],
   "source": [
    "!nvidia-smi"
   ]
  },
  {
   "cell_type": "code",
   "execution_count": null,
   "metadata": {
    "colab": {
     "base_uri": "https://localhost:8080/"
    },
    "id": "Xg2JO8fYqeip",
    "outputId": "adfbfdb8-99cf-4cf3-9e96-838c89f4d97f"
   },
   "outputs": [
    {
     "name": "stdout",
     "output_type": "stream",
     "text": [
      "\u001b[?25l     \u001b[90m━━━━━━━━━━━━━━━━━━━━━━━━━━━━━━━━━━━━━━━━\u001b[0m \u001b[32m0.0/360.3 kB\u001b[0m \u001b[31m?\u001b[0m eta \u001b[36m-:--:--\u001b[0m\r",
      "\u001b[2K     \u001b[91m━━━━━━━\u001b[0m\u001b[91m╸\u001b[0m\u001b[90m━━━━━━━━━━━━━━━━━━━━━━━━━━━━━━━━\u001b[0m \u001b[32m71.7/360.3 kB\u001b[0m \u001b[31m2.0 MB/s\u001b[0m eta \u001b[36m0:00:01\u001b[0m\r",
      "\u001b[2K     \u001b[91m━━━━━━━━━━━━━━━━━━━━━━━━━━━━━━━━━━━━━━\u001b[0m\u001b[91m╸\u001b[0m \u001b[32m358.4/360.3 kB\u001b[0m \u001b[31m5.2 MB/s\u001b[0m eta \u001b[36m0:00:01\u001b[0m\r",
      "\u001b[2K     \u001b[90m━━━━━━━━━━━━━━━━━━━━━━━━━━━━━━━━━━━━━━━\u001b[0m \u001b[32m360.3/360.3 kB\u001b[0m \u001b[31m4.5 MB/s\u001b[0m eta \u001b[36m0:00:00\u001b[0m\n",
      "\u001b[?25h"
     ]
    }
   ],
   "source": [
    "%pip install -q \\\n",
    "    flax \\\n",
    "    moviepy==1.0.3 \\\n",
    "    optax==0.1.5"
   ]
  },
  {
   "cell_type": "code",
   "execution_count": 18,
   "metadata": {
    "id": "Tuc0k-02qtDe"
   },
   "outputs": [],
   "source": [
    "from dataclasses import dataclass\n",
    "from functools import partial\n",
    "import hashlib\n",
    "import io\n",
    "import json\n",
    "import os\n",
    "import pickle\n",
    "import sys\n",
    "from tempfile import NamedTemporaryFile\n",
    "from typing import Any\n",
    "import time\n",
    "os.environ['FFMPEG_BINARY'] = 'ffmpeg'\n",
    "\n",
    "import flax.linen as nn\n",
    "import jax\n",
    "from jax import jit, lax, vmap, grad\n",
    "import jax.numpy as jnp\n",
    "from jax import random\n",
    "from jax.scipy.signal import correlate2d, convolve2d\n",
    "import matplotlib.pyplot as plt\n",
    "import moviepy.editor as mvp\n",
    "from moviepy.video.io.ffmpeg_writer import FFMPEG_VideoWriter\n",
    "import numpy as np\n",
    "import optax\n",
    "import PIL.Image as Image\n",
    "import requests\n",
    "is_cpu = jax.default_backend() == 'cpu'"
   ]
  },
  {
   "cell_type": "code",
   "execution_count": 2,
   "metadata": {
    "id": "yCtC5IM7gulW"
   },
   "outputs": [],
   "source": [
    "def weight_count(tree):\n",
    "    shapes = jax.tree_util.tree_map(lambda a: np.product(a.shape), tree)\n",
    "    return np.sum(jax.tree_util.tree_leaves(shapes))"
   ]
  },
  {
   "cell_type": "markdown",
   "metadata": {
    "id": "PwBjoyavqwaE"
   },
   "source": [
    "## NCA Model"
   ]
  },
  {
   "cell_type": "code",
   "execution_count": 32,
   "metadata": {
    "id": "E7opUvNqoDCr"
   },
   "outputs": [],
   "source": [
    "@jit\n",
    "def convolve_state_grid(state_grid, filter):\n",
    "    def _convolve_channel_grid(channel_grid):\n",
    "        return correlate2d(channel_grid, filter, mode='same')\n",
    "    return vmap(_convolve_channel_grid, in_axes=-1, out_axes=-1)(state_grid)\n",
    "\n",
    "\n",
    "@jit\n",
    "def perceive(state_grid):\n",
    "    sobel_x = jnp.array([\n",
    "        [-1, 0, +1],\n",
    "        [-2, 0, +2],\n",
    "        [-1, 0, +1]\n",
    "    ])\n",
    "    sobel_y = sobel_x.T\n",
    "    dx = convolve_state_grid(state_grid, sobel_x)\n",
    "    dy = convolve_state_grid(state_grid, sobel_y)\n",
    "    perception_grid = jnp.concatenate([state_grid, dx, dy], axis=-1)\n",
    "    return perception_grid\n",
    "\n",
    "@jit\n",
    "def stochastic_update(rng, update_grid, update_pct):\n",
    "    update_mask = random.uniform(rng, update_grid.shape[:-1])\n",
    "    update_mask = update_mask < update_pct\n",
    "    update_mask = jnp.expand_dims(update_mask, -1)\n",
    "    update_grid *= update_mask\n",
    "    return update_grid\n",
    "\n",
    "@jit\n",
    "def alive_mask(state_grid, alive_threshold):\n",
    "    alive_grid = state_grid[:, :, 0:1]\n",
    "    alive_grid = nn.max_pool(alive_grid, window_shape=(3, 3), strides=(1,1), padding='SAME')\n",
    "    alive_grid = alive_grid > alive_threshold\n",
    "    return alive_grid\n",
    "\n",
    "class NCA(nn.Module):\n",
    "    mlp_hidden: int\n",
    "    channels: int\n",
    "    update_pct: float\n",
    "    alive_threshold: float\n",
    "\n",
    "    @nn.compact\n",
    "    def __call__(self, state_grid, rng=None):\n",
    "        sequential = nn.Sequential([\n",
    "            nn.Dense(features=self.mlp_hidden),\n",
    "            nn.relu,\n",
    "            nn.Dense(features=channels, kernel_init=nn.initializers.constant(0.))\n",
    "        ])\n",
    "        perception_grid = perceive(state_grid)\n",
    "        update_grid = vmap(vmap(sequential))(perception_grid)\n",
    "        if rng is not None:\n",
    "            update_grid = stochastic_update(rng, update_grid, self.update_pct)\n",
    "        alive_grid = alive_mask(state_grid, self.alive_threshold)\n",
    "        state_grid += update_grid\n",
    "        state_grid *= alive_grid\n",
    "        return state_grid"
   ]
  },
  {
   "cell_type": "code",
   "execution_count": 24,
   "metadata": {},
   "outputs": [],
   "source": [
    "@dataclass\n",
    "class Grid:\n",
    "    grid_shape: int\n",
    "    channels: int\n",
    "    \n",
    "    def init(self):\n",
    "        width, height = self.grid_shape\n",
    "        x = jnp.zeros(shape=(height, width, self.channels))\n",
    "        x = x.at[height//2, width//2, :].set(1.)\n",
    "        return x"
   ]
  },
  {
   "cell_type": "code",
   "execution_count": 25,
   "metadata": {},
   "outputs": [],
   "source": [
    "@dataclass\n",
    "class Pool:\n",
    "    x: Any\n",
    "    size: int\n",
    "    reinit_size: int\n",
    "    \n",
    "    def init(self):\n",
    "        return jnp.repeat(jnp.expand_dims(self.x, 0), self.size, axis=0)\n",
    "    \n",
    "    def sample(self, rng, pool_params, batch_size):\n",
    "        sample_idx = random.choice(rng, pool_params.shape[0], (batch_size,), replace=False)\n",
    "        batch = pool_params[sample_idx]\n",
    "        return batch\n",
    "\n",
    "    def update(self, rng, pool_params, pool_updates):\n",
    "        idx = random.choice(rng, pool_params.shape[0], (pool_updates.shape[0],), replace=False)\n",
    "        return pool_params.at[idx].set(pool_updates)\n",
    "\n",
    "    def reinit(self, rng, pool_params):\n",
    "        rng, r = random.split(rng)\n",
    "        idx = random.choice(r, pool_params.shape[0], (self.reinit_size,), replace=False)\n",
    "        pool_params = pool_params.at[idx].set(self.x)\n",
    "        return pool_params"
   ]
  },
  {
   "cell_type": "code",
   "execution_count": 34,
   "metadata": {},
   "outputs": [],
   "source": [
    "@dataclass\n",
    "class Simulator:\n",
    "    model: Any\n",
    "    \n",
    "    def simulate(self, rng, grid_params, model_params, simulation_steps, return_steps=False):\n",
    "        def step(grid_params, rng):\n",
    "            next_grid_params = self.model.apply(model_params, grid_params, rng)\n",
    "            return next_grid_params, grid_params\n",
    "        rngs = jnp.array(random.split(rng, simulation_steps))\n",
    "        final_grid_params, grid_param_steps = lax.scan(step, grid_params, xs=rngs)\n",
    "        if return_steps:\n",
    "            return final_grid_params, grid_param_steps\n",
    "        else:\n",
    "            return final_grid_params\n",
    "\n",
    "    def batch_simulate(self, rng, grid_params_batch, model_params, simulation_steps):\n",
    "        batch_size = grid_params_batch.shape[0]\n",
    "        rngs = jnp.array(random.split(rng, batch_size))\n",
    "        def _simulate(r, grid_params):\n",
    "            return self.simulate(\n",
    "                rng=r,\n",
    "                grid_params=grid_params,\n",
    "                model_params=model_params,\n",
    "                simulation_steps=simulation_steps)\n",
    "        return vmap(_simulate)(rngs, grid_params_batch)\n",
    "    "
   ]
  },
  {
   "cell_type": "code",
   "execution_count": 39,
   "metadata": {},
   "outputs": [],
   "source": [
    "@jit\n",
    "def image_loss(state_grid, target_image):\n",
    "    y = target_image\n",
    "    yp = state_grid[..., 0]\n",
    "    return jnp.mean(optax.l2_loss(y, yp))\n",
    "\n",
    "@jit\n",
    "def normalize(a, eps=1e-9):\n",
    "    norm = jnp.linalg.norm(a)\n",
    "    return a / (norm + eps)\n",
    "\n",
    "\n",
    "@dataclass\n",
    "class Trainer:\n",
    "    pool: Pool\n",
    "    simulator: Simulator\n",
    "    optimizer: Any\n",
    "    target_image: Any\n",
    "    simulation_steps: int\n",
    "    \n",
    "    @partial(grad, argnums=2, has_aux=True)\n",
    "    def grads_and_updated_state_grid_batch(self, rng, model_params, grid_params_batch):\n",
    "        print('compile')\n",
    "        grid_params_batch = self.simulator.batch_simulate(\n",
    "            rng=rng,\n",
    "            grid_params_batch=grid_params_batch,\n",
    "            model_params=model_params,\n",
    "            simulation_steps=self.simulation_steps)\n",
    "        def _loss(grid_params):\n",
    "            return image_loss(grid_params, self.target_image)\n",
    "        losses = vmap(_loss)(grid_params_batch)\n",
    "        loss = jnp.mean(losses)\n",
    "        return loss, (loss, grid_params_batch)\n",
    "    \n",
    "    \n",
    "    def update(self, grads, model_params, optimizer_state):\n",
    "        grads = jax.tree_map(normalize, grads)\n",
    "        updates, optimizer_state = self.optimizer.update(grads, optimizer_state, model_params)\n",
    "        model_params = optax.apply_updates(updates, model_params)\n",
    "        return model_params, optimizer_state\n",
    "    \n",
    "    def step(self, rng, pool_params, model_params, optimizer_state):   \n",
    "        rng, r = random.split(rng)\n",
    "        grid_params_batch = self.pool.sample(r, pool_params, batch_size)\n",
    "        rng, r = random.split(rng)\n",
    "        grads, (loss, updated_state_grid_batch) = self.grads_and_updated_state_grid_batch(\n",
    "            r,\n",
    "            model_params,\n",
    "            grid_params_batch)\n",
    "        rng, r = random.split(rng)\n",
    "        pool_params = self.pool.update(\n",
    "            rng=r,\n",
    "            pool_params=pool_params,\n",
    "            pool_updates=updated_state_grid_batch,\n",
    "        )\n",
    "        rng, r = random.split(rng)\n",
    "        pool_params = self.pool.reinit(r, pool_params)\n",
    "        model_params, optimizer_state = self.update(\n",
    "            grads=grads,\n",
    "            model_params=model_params,\n",
    "            optimizer_state=optimizer_state)\n",
    "    \n",
    "        return pool_params, model_params, optimizer_state, loss"
   ]
  },
  {
   "cell_type": "markdown",
   "metadata": {
    "id": "UQlmPrxqqywV"
   },
   "source": [
    "## Training"
   ]
  },
  {
   "cell_type": "code",
   "execution_count": 40,
   "metadata": {
    "colab": {
     "base_uri": "https://localhost:8080/"
    },
    "id": "7EkFPKmeqcdw",
    "outputId": "cb6ee225-e0a7-48c0-9429-279e5dffc4ed"
   },
   "outputs": [],
   "source": [
    "@partial(jit, static_argnames=('scale'))\n",
    "def zoom(img, scale=4):\n",
    "    img = jnp.repeat(img, scale, 0)\n",
    "    img = jnp.repeat(img, scale, 1)\n",
    "    return img\n",
    "\n",
    "def render_video(frames, frames_per_second, output_path):\n",
    "    frame_count = frames.shape[0]\n",
    "    frame_size = frames.shape[1]\n",
    "    frame_shape = (frame_size,) * 2\n",
    "    with FFMPEG_VideoWriter(size=frame_shape, fps=frames_per_second, filename=output_path) as writer:\n",
    "        for fr in range(frame_count):\n",
    "            frame = frames[fr]\n",
    "            writer.write_frame(frame)\n",
    "\n",
    "def download_emoji(emoji):\n",
    "    code = hex(ord(emoji))[2:].lower()\n",
    "    response = requests.get(f'https://github.com/googlefonts/noto-emoji/blob/main/png/128/emoji_u{code}.png?raw=true')\n",
    "    response.raise_for_status()\n",
    "    img_bytes = response.content\n",
    "    img = Image.open(io.BytesIO(img_bytes))\n",
    "    img_array = np.array(img)\n",
    "    return img_array\n",
    "\n",
    "@jit\n",
    "def premultiply_alpha(img):\n",
    "    return img[..., :3] * jnp.expand_dims(img[..., 3], -1)\n",
    "\n",
    "@jit\n",
    "def to_rgb(state_grid):\n",
    "    rgb = jnp.clip(state_grid, 0., 1.)\n",
    "    rgb *= 255.\n",
    "    rgb = jnp.uint8(rgb)\n",
    "    return rgb\n",
    "\n",
    "\n",
    "def display_simulation(state_grid_steps, target_image):\n",
    "    frames = state_grid_steps[..., 0]\n",
    "    frames = to_rgb(frames)\n",
    "    frames = jnp.expand_dims(frames, -1)\n",
    "    frames = jnp.repeat(frames, repeats=3, axis=-1)\n",
    "    frames = vmap(lambda frame: frame.at[..., 1].set(to_rgb(target_image)))(frames)\n",
    "    frames = vmap(lambda frame: zoom(frame, scale=8))(frames)\n",
    "    video_file = NamedTemporaryFile(suffix='.mp4')\n",
    "    render_video(frames, frames_per_second=4, output_path=video_file.name)\n",
    "    display(mvp.ipython_display(video_file.name))\n",
    "\n"
   ]
  },
  {
   "cell_type": "code",
   "execution_count": 41,
   "metadata": {},
   "outputs": [],
   "source": [
    "grid_shape = (32, 32)\n",
    "emoji = \"♥\"\n",
    "emoji = download_emoji(emoji)\n",
    "target_image = emoji[..., 3]\n",
    "target_image = Image.fromarray(target_image)\n",
    "target_image.thumbnail(grid_shape)\n",
    "target_image = np.array(target_image)\n",
    "target_image = np.float32(np.clip(0., 1., target_image/255))"
   ]
  },
  {
   "cell_type": "code",
   "execution_count": 44,
   "metadata": {
    "id": "FbNH6coxrfBT"
   },
   "outputs": [],
   "source": [
    "rng = random.PRNGKey(42)\n",
    "channels = 16\n",
    "hidden_channels = 128\n",
    "batch_size = 8\n",
    "pool_size = 64\n",
    "simulation_steps = 32\n",
    "eval_simulation_steps = 128\n",
    "pool_reinit_size = 1\n",
    "nca = NCA(\n",
    "    mlp_hidden=hidden_channels,\n",
    "    channels=channels,\n",
    "    update_pct=.5,\n",
    "    alive_threshold=.1\n",
    ")\n",
    "learning_rate = 1e-3\n",
    "grid = Grid(grid_shape=grid_shape, channels=channels)\n",
    "grid_params = grid.init()\n",
    "pool = Pool(x=grid_params, size=pool_size, reinit_size=pool_reinit_size)\n",
    "rng, r = random.split(rng)\n",
    "model_params = nca.init(r, grid_params)\n",
    "optimizer = optax.adam(learning_rate=learning_rate)\n",
    "optimizer_state = optimizer.init(model_params)\n",
    "pool_params = pool.init()\n",
    "simulator = Simulator(model=nca)\n",
    "trainer = Trainer(pool=pool, simulator=simulator, simulation_steps=simulation_steps, optimizer=optimizer, target_image=target_image)\n",
    "losses = []\n",
    "\n",
    "@jit\n",
    "def train_step(*args, **kwargs):\n",
    "    return trainer.step(*args, **kwargs)"
   ]
  },
  {
   "cell_type": "code",
   "execution_count": 45,
   "metadata": {
    "colab": {
     "base_uri": "https://localhost:8080/"
    },
    "id": "n6Ag7KlJr0Xq",
    "outputId": "bbc91960-ed67-4798-d41b-f4c0413f4c48"
   },
   "outputs": [
    {
     "name": "stdout",
     "output_type": "stream",
     "text": [
      "compile\n",
      "1 0.2829152\n",
      "2 0.2764838\n",
      "3 0.26868594\n"
     ]
    }
   ],
   "source": [
    "steps = range(1,4) if is_cpu else range(1, 10_000)\n",
    "start = time.time()\n",
    "for i in steps:\n",
    "    if i % 500 == 0:\n",
    "        rng, r = random.split(rng)\n",
    "        final_grid_params = simulator.simulate(\n",
    "            rng=r,\n",
    "            grid_params=grid_params,\n",
    "            model_params=model_params,\n",
    "            simulation_steps=eval_simulation_steps)\n",
    "        loss = image_loss(final_grid_params, target_image)\n",
    "        print(i, loss, time.time() - start)\n",
    "        start = time.time()\n",
    "\n",
    "    rng, r = random.split(rng)\n",
    "    pool_params, model_params, optimizer_state, loss = train_step(r, pool_params, model_params, optimizer_state)\n",
    "    if len(steps) < 10:\n",
    "        print(i, loss)\n",
    "    losses.append(loss)\n",
    "\n",
    "#assert loss == 0.26868594"
   ]
  },
  {
   "cell_type": "code",
   "execution_count": 22,
   "metadata": {
    "colab": {
     "base_uri": "https://localhost:8080/",
     "height": 453
    },
    "id": "rNc2uZL5r2MN",
    "outputId": "803bdf00-c850-42cb-8573-cb5afe9678c9"
   },
   "outputs": [
    {
     "data": {
      "text/plain": [
       "[<matplotlib.lines.Line2D at 0x149a43460>]"
      ]
     },
     "execution_count": 22,
     "metadata": {},
     "output_type": "execute_result"
    },
    {
     "data": {
      "image/png": "[encoded data removed]",
      "text/plain": [
       "<Figure size 640x480 with 1 Axes>"
      ]
     },
     "metadata": {},
     "output_type": "display_data"
    }
   ],
   "source": [
    "plt.yscale('log')\n",
    "plt.plot(losses)"
   ]
  },
  {
   "cell_type": "code",
   "execution_count": null,
   "metadata": {
    "colab": {
     "base_uri": "https://localhost:8080/",
     "height": 277
    },
    "id": "DsNQvmh9sRux",
    "outputId": "50bc6cae-c9f6-4df3-9074-3aee4ea9f221"
   },
   "outputs": [],
   "source": [
    "rng, r = random.split(rng)\n",
    "_, grid_param_steps = simulator.simulate(\n",
    "        rng=r,\n",
    "        grid_params=grid_params,\n",
    "        model_params=model_params,\n",
    "        simulation_steps=eval_simulation_steps,\n",
    "        return_steps=True)\n",
    "display_simulation(grid_param_steps, target_image)"
   ]
  }
 ],
 "metadata": {
  "accelerator": "GPU",
  "colab": {
   "gpuClass": "premium",
   "gpuType": "V100",
   "machine_shape": "hm",
   "provenance": []
  },
  "gpuClass": "premium",
  "kernelspec": {
   "display_name": "Python 3 (ipykernel)",
   "language": "python",
   "name": "python3"
  },
  "language_info": {
   "codemirror_mode": {
    "name": "ipython",
    "version": 3
   },
   "file_extension": ".py",
   "mimetype": "text/x-python",
   "name": "python",
   "nbconvert_exporter": "python",
   "pygments_lexer": "ipython3",
   "version": "3.9.10"
  }
 },
 "nbformat": 4,
 "nbformat_minor": 4
}
